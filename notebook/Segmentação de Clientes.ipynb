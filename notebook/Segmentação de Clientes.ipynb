{
 "cells": [
  {
   "cell_type": "markdown",
   "id": "82d74cd3-0923-468f-892f-bf48bfdc42b8",
   "metadata": {},
   "source": [
    "## <a> Segmentação de Clientes </a>"
   ]
  },
  {
   "cell_type": "markdown",
   "id": "d70b87f0-7721-40a2-b7ea-e957962a4152",
   "metadata": {},
   "source": [
    "No universo dinâmico dos negócios, compreender as nuances individuais dos clientes é crucial para o sucesso empresarial. Após uma eficiente análise de componentes principais (PCA) que reduziu nosso conjunto de dados de 30 perguntas para 5 componentes principais, avançamos para a segunda etapa: a segmentação de clientes.\n",
    "\n",
    "Utilizaremos técnicas de clusterização, com destaque para o algoritmo K-means, para agrupar clientes com caracaterísticas similares. Dessa forma, uma campanha de marketing pode ser melhor direcionada e atingir os segmentos de consumidores que possuem maior chance de adqurir nosso produto. Essa abordagem não só simplifica estratégias de marketing e atendimento, como também maximiza a eficiência operacional, sobretudo quando o nível de recursos destinados à publicidade não é elevado.\n",
    "\n",
    "Ao criar grupos homogêneos, antecipamos necessidades específicas e ajustamos nossas abordagens de forma mais precisa. Estamos prestes a explorar padrões subjacentes, permitindo uma personalização mais profunda em nossas interações com os clientes. Este é o caminho para estratégias mais inteligentes, focadas em construir relacionamentos duradouros e satisfazer as demandas individuais de nossos clientes. Vamos agora utilizar o potencial do K-means para impulsionar o sucesso da microvan, mantendo o cliente no epicentro de nossas decisões estratégicas."
   ]
  },
  {
   "cell_type": "markdown",
   "id": "80d36a94-878d-4fd1-96ee-433f1f1bf15b",
   "metadata": {},
   "source": [
    "É importante lembrar as diferenças entre redução de dimensionalidade e clusterização:\n",
    "\n",
    "> A redução de dimensionalidade é utilizada para diminuir o número de features em um DataFrame. A utilização do PCA retorna componentes principais a partir de um número maior de colunas.\n",
    "\n",
    "> A clusterização, por sua vez, agrupa as linhas do DataFrame (isto é, as observações) de acordo com suas características (valores das features)."
   ]
  },
  {
   "cell_type": "markdown",
   "id": "8952f598-dfeb-4963-827d-cd454ccfa34e",
   "metadata": {},
   "source": [
    "> Na primeira parte do projeto (no notebook PCA - Redução Dimensionalidade) foi realizada a redução de dimensionalidade para que se tornasse mais fácil interpretar os resultados provenientes da clusterização. Ao trocar 30 colunas por 5 componentes principais, é possível trazer mais clareza para a análise de segmentação."
   ]
  },
  {
   "cell_type": "code",
   "execution_count": 13,
   "id": "8121cd7a-b207-4794-aaae-3a0a0d492276",
   "metadata": {},
   "outputs": [],
   "source": [
    "# importando bibliotecas necessárias\n",
    "import pickle\n",
    "import pandas as pd\n",
    "import numpy as np\n",
    "import matplotlib.pyplot as plt\n",
    "import seaborn as sns\n",
    "\n",
    "# Setando configurações do pandas para mostrar todas as linhas e colunas \n",
    "pd.set_option('display.max_rows', None)\n",
    "pd.set_option('display.max_columns', None)\n",
    "\n",
    "# Setando configurações no pandas para não mostrar números com notação científica\n",
    "pd.set_option('display.float_format', lambda x: \"%.2f\" % x) # Mostrando numeros com apenas 2 casas decimais"
   ]
  },
  {
   "cell_type": "code",
   "execution_count": 4,
   "id": "edfffaa9-a203-4c6c-8026-3d4bb20b4cc6",
   "metadata": {},
   "outputs": [],
   "source": [
    "# Acessando arquivos\n",
    "with open(\"principal_components.pkl\", 'rb') as pca_file:\n",
    "    principal_components = pickle.load(pca_file)"
   ]
  },
  {
   "cell_type": "code",
   "execution_count": 5,
   "id": "bce7b244-0b12-4fc5-a5d7-8c890079d3be",
   "metadata": {},
   "outputs": [
    {
     "data": {
      "text/plain": [
       "array([[ 4.95739724, -0.630778  ,  0.25397408,  4.53413096,  0.4787577 ],\n",
       "       [-0.42529226, -4.57730748, -2.68257259, -2.62292284, -0.50422577],\n",
       "       [-4.20223653,  5.99835902,  2.46455968,  1.54782301, -2.41202492],\n",
       "       ...,\n",
       "       [-6.4115679 , -4.47822563, -6.6555251 , -0.29161379, -1.62472682],\n",
       "       [-3.57270499, -5.5292335 ,  0.25267482,  2.61167859, -1.04362801],\n",
       "       [ 4.05034892,  2.45977589,  3.75878157, -0.49039215,  0.74268315]])"
      ]
     },
     "execution_count": 5,
     "metadata": {},
     "output_type": "execute_result"
    }
   ],
   "source": [
    "# Este é o dataframe do questionário de 30 perguntas transformado em 5 componentes principais\n",
    "principal_components\n",
    "\n",
    "# Obs: Cada linha desse array corresponde à resposta de determinado indivíduo às metaperguntas geradas a partir do PCA"
   ]
  },
  {
   "cell_type": "markdown",
   "id": "587163f1-346d-4997-895a-77f05f907ab8",
   "metadata": {},
   "source": [
    "#### Ex: a última linha corresponde a um cliente que respondeu o questionário e tem o componente principal 1 no valor de 4.05, ou seja, um valor forte positivo para \"Workaholics Econômicos\" e valor 3.75 para \"Família ativa\" "
   ]
  },
  {
   "cell_type": "code",
   "execution_count": 19,
   "id": "038d9c68-6d46-44dd-bc70-16af4073f429",
   "metadata": {},
   "outputs": [],
   "source": [
    "# Carregando base de dados novamente\n",
    "df = pd.read_csv('./data/microvan.csv')"
   ]
  },
  {
   "cell_type": "code",
   "execution_count": 20,
   "id": "211ae819-04fe-488d-bf9c-09a564652f3e",
   "metadata": {},
   "outputs": [],
   "source": [
    "# Setando coluna subjnumb (subject number) como índice da base de dados\n",
    "df = df.set_index(\"subjnumb\")"
   ]
  },
  {
   "cell_type": "code",
   "execution_count": 21,
   "id": "b202dca6-eb52-4773-aa8a-3c5cc388edfc",
   "metadata": {},
   "outputs": [
    {
     "data": {
      "text/html": [
       "<div>\n",
       "<style scoped>\n",
       "    .dataframe tbody tr th:only-of-type {\n",
       "        vertical-align: middle;\n",
       "    }\n",
       "\n",
       "    .dataframe tbody tr th {\n",
       "        vertical-align: top;\n",
       "    }\n",
       "\n",
       "    .dataframe thead th {\n",
       "        text-align: right;\n",
       "    }\n",
       "</style>\n",
       "<table border=\"1\" class=\"dataframe\">\n",
       "  <thead>\n",
       "    <tr style=\"text-align: right;\">\n",
       "      <th></th>\n",
       "      <th>Workaholics</th>\n",
       "      <th>Carros_Pequenos</th>\n",
       "      <th>Família</th>\n",
       "      <th>Velozes</th>\n",
       "      <th>Carro_Caro</th>\n",
       "    </tr>\n",
       "    <tr>\n",
       "      <th>subjnumb</th>\n",
       "      <th></th>\n",
       "      <th></th>\n",
       "      <th></th>\n",
       "      <th></th>\n",
       "      <th></th>\n",
       "    </tr>\n",
       "  </thead>\n",
       "  <tbody>\n",
       "    <tr>\n",
       "      <th>1</th>\n",
       "      <td>4.96</td>\n",
       "      <td>-0.63</td>\n",
       "      <td>0.25</td>\n",
       "      <td>4.53</td>\n",
       "      <td>0.48</td>\n",
       "    </tr>\n",
       "    <tr>\n",
       "      <th>2</th>\n",
       "      <td>-0.43</td>\n",
       "      <td>-4.58</td>\n",
       "      <td>-2.68</td>\n",
       "      <td>-2.62</td>\n",
       "      <td>-0.50</td>\n",
       "    </tr>\n",
       "    <tr>\n",
       "      <th>3</th>\n",
       "      <td>-4.20</td>\n",
       "      <td>6.00</td>\n",
       "      <td>2.46</td>\n",
       "      <td>1.55</td>\n",
       "      <td>-2.41</td>\n",
       "    </tr>\n",
       "    <tr>\n",
       "      <th>4</th>\n",
       "      <td>4.89</td>\n",
       "      <td>-0.93</td>\n",
       "      <td>-0.76</td>\n",
       "      <td>-3.58</td>\n",
       "      <td>3.52</td>\n",
       "    </tr>\n",
       "    <tr>\n",
       "      <th>5</th>\n",
       "      <td>0.12</td>\n",
       "      <td>5.55</td>\n",
       "      <td>-1.02</td>\n",
       "      <td>0.07</td>\n",
       "      <td>-0.84</td>\n",
       "    </tr>\n",
       "  </tbody>\n",
       "</table>\n",
       "</div>"
      ],
      "text/plain": [
       "          Workaholics  Carros_Pequenos  Família  Velozes  Carro_Caro\n",
       "subjnumb                                                            \n",
       "1                4.96            -0.63     0.25     4.53        0.48\n",
       "2               -0.43            -4.58    -2.68    -2.62       -0.50\n",
       "3               -4.20             6.00     2.46     1.55       -2.41\n",
       "4                4.89            -0.93    -0.76    -3.58        3.52\n",
       "5                0.12             5.55    -1.02     0.07       -0.84"
      ]
     },
     "execution_count": 21,
     "metadata": {},
     "output_type": "execute_result"
    }
   ],
   "source": [
    "# De posse do array correspondente às respostas (nos componentes principais), vamos transformá-lo num DataFrame para nomear as\n",
    "# colunas\n",
    "# Definindo nomes dos componentes\n",
    "nomes_componentes = ['Workaholics', 'Carros_Pequenos', 'Família', 'Velozes', 'Carro_Caro']\n",
    "\n",
    "# Transformando num pandas DataFrame\n",
    "pca_df = pd.DataFrame(data = principal_components, columns = nomes_componentes, index = df.index)\n",
    "\n",
    "# Visualizando \n",
    "pca_df.head()"
   ]
  },
  {
   "cell_type": "code",
   "execution_count": 22,
   "id": "615940b7-c589-4dec-82df-d41b6fcfa184",
   "metadata": {},
   "outputs": [],
   "source": [
    "# Definindo as features demograficas novamente\n",
    "features_demograficas = ['age', 'income', 'miles', 'numkids', 'female', 'educ', 'recycle', 'mvliking']"
   ]
  },
  {
   "cell_type": "code",
   "execution_count": 23,
   "id": "7aa93998-e89f-4e4b-a33b-7ae71180a26a",
   "metadata": {},
   "outputs": [
    {
     "data": {
      "text/html": [
       "<div>\n",
       "<style scoped>\n",
       "    .dataframe tbody tr th:only-of-type {\n",
       "        vertical-align: middle;\n",
       "    }\n",
       "\n",
       "    .dataframe tbody tr th {\n",
       "        vertical-align: top;\n",
       "    }\n",
       "\n",
       "    .dataframe thead th {\n",
       "        text-align: right;\n",
       "    }\n",
       "</style>\n",
       "<table border=\"1\" class=\"dataframe\">\n",
       "  <thead>\n",
       "    <tr style=\"text-align: right;\">\n",
       "      <th></th>\n",
       "      <th>age</th>\n",
       "      <th>income</th>\n",
       "      <th>miles</th>\n",
       "      <th>numkids</th>\n",
       "      <th>female</th>\n",
       "      <th>educ</th>\n",
       "      <th>recycle</th>\n",
       "      <th>mvliking</th>\n",
       "      <th>Workaholics</th>\n",
       "      <th>Carros_Pequenos</th>\n",
       "      <th>Família</th>\n",
       "      <th>Velozes</th>\n",
       "      <th>Carro_Caro</th>\n",
       "    </tr>\n",
       "    <tr>\n",
       "      <th>subjnumb</th>\n",
       "      <th></th>\n",
       "      <th></th>\n",
       "      <th></th>\n",
       "      <th></th>\n",
       "      <th></th>\n",
       "      <th></th>\n",
       "      <th></th>\n",
       "      <th></th>\n",
       "      <th></th>\n",
       "      <th></th>\n",
       "      <th></th>\n",
       "      <th></th>\n",
       "      <th></th>\n",
       "    </tr>\n",
       "  </thead>\n",
       "  <tbody>\n",
       "    <tr>\n",
       "      <th>1</th>\n",
       "      <td>34</td>\n",
       "      <td>59</td>\n",
       "      <td>14</td>\n",
       "      <td>1</td>\n",
       "      <td>0</td>\n",
       "      <td>1</td>\n",
       "      <td>3</td>\n",
       "      <td>4</td>\n",
       "      <td>4.96</td>\n",
       "      <td>-0.63</td>\n",
       "      <td>0.25</td>\n",
       "      <td>4.53</td>\n",
       "      <td>0.48</td>\n",
       "    </tr>\n",
       "    <tr>\n",
       "      <th>2</th>\n",
       "      <td>36</td>\n",
       "      <td>79</td>\n",
       "      <td>16</td>\n",
       "      <td>1</td>\n",
       "      <td>0</td>\n",
       "      <td>3</td>\n",
       "      <td>4</td>\n",
       "      <td>6</td>\n",
       "      <td>-0.43</td>\n",
       "      <td>-4.58</td>\n",
       "      <td>-2.68</td>\n",
       "      <td>-2.62</td>\n",
       "      <td>-0.50</td>\n",
       "    </tr>\n",
       "    <tr>\n",
       "      <th>3</th>\n",
       "      <td>51</td>\n",
       "      <td>72</td>\n",
       "      <td>22</td>\n",
       "      <td>2</td>\n",
       "      <td>1</td>\n",
       "      <td>3</td>\n",
       "      <td>3</td>\n",
       "      <td>3</td>\n",
       "      <td>-4.20</td>\n",
       "      <td>6.00</td>\n",
       "      <td>2.46</td>\n",
       "      <td>1.55</td>\n",
       "      <td>-2.41</td>\n",
       "    </tr>\n",
       "    <tr>\n",
       "      <th>4</th>\n",
       "      <td>32</td>\n",
       "      <td>42</td>\n",
       "      <td>12</td>\n",
       "      <td>0</td>\n",
       "      <td>0</td>\n",
       "      <td>3</td>\n",
       "      <td>2</td>\n",
       "      <td>3</td>\n",
       "      <td>4.89</td>\n",
       "      <td>-0.93</td>\n",
       "      <td>-0.76</td>\n",
       "      <td>-3.58</td>\n",
       "      <td>3.52</td>\n",
       "    </tr>\n",
       "    <tr>\n",
       "      <th>5</th>\n",
       "      <td>40</td>\n",
       "      <td>75</td>\n",
       "      <td>17</td>\n",
       "      <td>1</td>\n",
       "      <td>1</td>\n",
       "      <td>3</td>\n",
       "      <td>4</td>\n",
       "      <td>1</td>\n",
       "      <td>0.12</td>\n",
       "      <td>5.55</td>\n",
       "      <td>-1.02</td>\n",
       "      <td>0.07</td>\n",
       "      <td>-0.84</td>\n",
       "    </tr>\n",
       "  </tbody>\n",
       "</table>\n",
       "</div>"
      ],
      "text/plain": [
       "          age  income  miles  numkids  female  educ  recycle  mvliking  \\\n",
       "subjnumb                                                                 \n",
       "1          34      59     14        1       0     1        3         4   \n",
       "2          36      79     16        1       0     3        4         6   \n",
       "3          51      72     22        2       1     3        3         3   \n",
       "4          32      42     12        0       0     3        2         3   \n",
       "5          40      75     17        1       1     3        4         1   \n",
       "\n",
       "          Workaholics  Carros_Pequenos  Família  Velozes  Carro_Caro  \n",
       "subjnumb                                                              \n",
       "1                4.96            -0.63     0.25     4.53        0.48  \n",
       "2               -0.43            -4.58    -2.68    -2.62       -0.50  \n",
       "3               -4.20             6.00     2.46     1.55       -2.41  \n",
       "4                4.89            -0.93    -0.76    -3.58        3.52  \n",
       "5                0.12             5.55    -1.02     0.07       -0.84  "
      ]
     },
     "execution_count": 23,
     "metadata": {},
     "output_type": "execute_result"
    }
   ],
   "source": [
    "# juntando pca_df com colunas demográficas \n",
    "df_pca_final = pd.concat([df.loc[:, features_demograficas], pca_df], axis = 1)\n",
    "\n",
    "# Visualizando\n",
    "df_pca_final.head()"
   ]
  },
  {
   "cell_type": "markdown",
   "id": "efbf3bef-d4f4-41ad-8a5b-b4fd2ec50c0b",
   "metadata": {},
   "source": [
    "Dispondo deste DataFrame completo, com informações acerca das características demográficas de cada indivíduo, bem como suas respostas à cada metapergunta construída a partir do PCA, é possível começar a análise de clusterização com o algoritmo K-Means."
   ]
  },
  {
   "cell_type": "markdown",
   "id": "bfe93230-32b8-43ad-9535-582df34e3fe7",
   "metadata": {},
   "source": [
    "### <a> Clusterização </a>"
   ]
  },
  {
   "cell_type": "code",
   "execution_count": null,
   "id": "382022dc-6053-44c8-b884-aee7a4fe1e2a",
   "metadata": {},
   "outputs": [],
   "source": []
  },
  {
   "cell_type": "markdown",
   "id": "21c74add-1fca-40d6-80f9-5a346ca6b999",
   "metadata": {},
   "source": [
    "PUSH 05"
   ]
  }
 ],
 "metadata": {
  "kernelspec": {
   "display_name": "Python 3 (ipykernel)",
   "language": "python",
   "name": "python3"
  },
  "language_info": {
   "codemirror_mode": {
    "name": "ipython",
    "version": 3
   },
   "file_extension": ".py",
   "mimetype": "text/x-python",
   "name": "python",
   "nbconvert_exporter": "python",
   "pygments_lexer": "ipython3",
   "version": "3.11.4"
  }
 },
 "nbformat": 4,
 "nbformat_minor": 5
}
