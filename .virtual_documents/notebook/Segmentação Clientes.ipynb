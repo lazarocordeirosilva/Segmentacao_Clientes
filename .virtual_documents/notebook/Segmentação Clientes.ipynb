











# Importando bibliotecas necessárias
import os
import pandas as pd
import numpy as np
import matplotlib.pyplot as plt
import seaborn as sns
import warnings
from sklearn.decomposition import PCA

# Setando configurações do pandas para mostrar todas as linhas e colunas 
pd.set_option('display.max_rows', None)
pd.set_option('display.max_columns', None)

# Setando configurações no pandas para não mostrar números com notação científica
pd.set_option('display.float_format', lambda x: "%.2f" % x) # Mostrando numeros com apenas 2 casas decimais


# Ignorando warnings 
warnings.filterwarnings("ignore")


# Lendo dados 
df = pd.read_csv('./data/microvan.csv')


# Visualizando dados
df.head()


# Visualizando todas as features da base de dados
df.columns





# Setando coluna subjnumb (subject number) como índice da base de dados
df = df.set_index("subjnumb")


# Visualizando mudança 
df.head()








# Criando Dicionário de Dados
dicionario_dados = dict()

# Preenchendo o dicionário
dicionario_dados['mvliking'] = 'Quanto o cliente gostou do conceito da microvan.'
dicionario_dados['kidtrans'] = 'Precisamos de um carro que ajude a transportar nossos filhos e seus amigos.'
dicionario_dados['miniboxy'] = 'As minivans atuais são simplesmente muito quadradas e grandes.'
dicionario_dados['lthrbetr'] = 'Os assentos de couro são muito melhores que os de tecido'
dicionario_dados['secbiggr'] = 'Se tivéssemos um segundo carro, precisaria ser maior que um sedã padrão'
dicionario_dados['safeimpt'] = 'A segurança do automóvel é muito importante para mim'
dicionario_dados['buyhghnd'] = 'Nós tendemos a comprar carros mais sofisticados'
dicionario_dados['pricqual'] = 'Os preços dos automóveis refletem fortemente a qualidade de produção subjacente'
dicionario_dados['prmsound'] = 'Um sistema de som e entretenimento premium ajuda em longas viagens de carro'
dicionario_dados['perfimpt'] = 'O desempenho é muito importante em um carro'
dicionario_dados['tkvacatn'] = 'Tentamos tirar o máximo de férias possível'
dicionario_dados['noparkrm'] = 'Nossa residência atual não tem muito espaço de estacionamento'
dicionario_dados['homlrgst'] = 'Nossa casa está entre as maiores do bairro'
dicionario_dados['envrminr'] = 'O impacto ambiental dos automóveis é relativamente pequeno'
dicionario_dados['needbetw'] = 'Precisa haver algo entre um sedan e uma minivan'
dicionario_dados['suvcmpct'] = 'Gosto mais de SUVs do que de minivans, pois são mais compactos'
dicionario_dados['next2str'] = 'Meu próximo carro será um de dois lugares'
dicionario_dados['carefmny'] = 'Temos cuidado com o dinheiro'
dicionario_dados['shdcarpl'] = 'Acho que todo mundo deveria pegar carona ou usar transporte público'
dicionario_dados['imprtapp'] = 'A maioria dos nossos aparelhos são importados'
dicionario_dados['lk4whldr'] = 'A tração nas quatro rodas é uma opção muito atraente'
dicionario_dados['kidsbulk'] = 'Nossos filhos tendem a levar muitos itens volumosos e brinquedos com eles'
dicionario_dados['wntguzlr'] = 'Eu vou comprar o que eu quero mesmo que seja um “bebedor de gás”'
dicionario_dados['nordtrps'] = 'Não fazemos viagens com a família'
dicionario_dados['stylclth'] = 'Nós tendemos a comprar roupas elegantes para a família'
dicionario_dados['strngwrn'] = 'A proteção da garantia precisa ser forte em um carro novo'
dicionario_dados['passnimp'] = 'A paixão pelo trabalho é mais importante do que o pagamento'
dicionario_dados['twoincom'] = 'Nossa família acharia difícil subsistir com apenas uma renda'
dicionario_dados['nohummer'] = 'Não estou interessado em possuir um veículo como um Hummer'
dicionario_dados['aftrschl'] = 'Nós nos envolvemos em mais atividades depois da escola do que a maioria das famílias'
dicionario_dados['accesfun'] = 'Os acessórios realmente tornam o carro mais divertido de dirigir'
dicionario_dados['age'] = 'Idade do entrevistado em anos'
dicionario_dados['income'] = 'Renda familiar anual em milhares de dólares'
dicionario_dados['miles'] = 'Valor anual total conduzido por membros da família em milhares de milhas'
dicionario_dados['numkids'] = 'Número de crianças (0-18 anos) que residem no domicílio'
dicionario_dados['female'] = 'Se o entrevistado é ou não uma mulher'
dicionario_dados['educ'] = 'Nível de escolaridade do entrevistado (1 = Ensino médio, 2 = Alguma faculdade, 3 = Graduação, 4 = Pós-graduação)'
dicionario_dados['recycle'] = 'Reciclagem autorrelatada em comparação com a média (1 = Muito menos, 2 = Um pouco menos, 3 = Médio, 4 = Um pouco mais, 5 = Muito mais)'


# Testando aplicabilidade do dicionário
dicionario_dados['female'], dicionario_dados['age'], dicionario_dados['income']





# Visualizando dimensões da base de dados
print(f"A base de dados possui {df.shape[0]} linhas e {df.shape[1]} colunas.")


# Analisando os tipos de dados da base de dados
df.dtypes


# Analisando demais informações da base de dados
df.info()











# Analisando estatisticas descritivas do DataFrame
df.describe()











# Criando função de histograma para visualização gráfica
def histograma(dados, var, legenda):
    """
    Gera um histograma para a variável especificada no dataframe fornecido.

    Parâmetros:
    -> dados (DataFrame): O dataframe contendo os dados a serem utilizados.
    -> var (str): O nome da variável para a qual deseja-se gerar o histograma.
    -> legenda (tuple): Uma tupla contendo duas strings - a primeira para a legenda do eixo x e a segunda para o título do gráfico
    """
    
    sns.set_style("white") # Setando estilo do seaborn 
    plt.figure(figsize=(8,4)) # Definindo tamanho do objeto figure
    sns.histplot(data = dados, x = f'{var}', color = '#800080') # Plotando o gráfico
    sns.despine(bottom = True, left = True) # Retirando bordas
    plt.ylabel("Quantidade", color = 'grey', fontsize = 10, labelpad = 15) # Colocando legenda 
    plt.tick_params(axis = 'y', labelsize = 9, color = 'grey') # e ajustando eixo y
    plt.xlabel(f"{legenda[0]}", color = 'grey', fontsize = 10, labelpad = 15) # Colocando legenda 
    plt.tick_params(axis = 'x', labelsize = 9, color = 'grey') # e ajustando o eixo x
    
    # Colocando titulo
    plt.title(f"{legenda[1]}", color = 'k', pad = 20, fontsize = 15, fontweight = 'bold')
    
    # Mostrando 
    plt.show()





# Criando função para visualização de countplots
def countplot(dados, var, legenda, map):
    """
    Gera um countplot para a variável especificada a partir do dataframe fornecido.

    Parâmetros:
    -> dados (DataFrame): O dataframe contendo os dados a serem utilizados.
    -> var (str): O nome da variável para a qual deseja-se gerar o countplot.
    -> legenda (tuple): Uma tupla contendo duas strings - a primeira para a legenda do eixo x e a segunda para o título do gráfico.
    -> map (dict): Um dicionário para mapeamento contendo as chaves e o valor para troca. Ex: {0: Homens, 1: Mulheres}
    """
    # Definindo cores para a paleta
    color = ['#00FFFF', '#800080']  # Cores ciano e roxo
    sns.set_style("white")  # Setando estilo do seaborn
    plt.figure(figsize=(8, 6))  # Definindo tamanho do objeto figure    
    ax = sns.countplot(data=dados, x=var, palette=color)  # Plotando gráfico sem 'hue'
    sns.despine(bottom=True, left=True)  # Retirando bordas
    plt.ylabel("", color='grey', fontsize=0, labelpad=15)  # Tirando legenda do eixo y
    plt.tick_params(axis='y', labelsize=9, color='grey')  # e ajustando eixo y
    plt.xlabel(legenda[0], color='grey', fontsize=10, labelpad=15)  # Colocando legenda 
    plt.tick_params(axis='x', labelsize=9, color='grey')  # e ajustando o eixo x
    plt.title(legenda[1], color='k', pad=20, fontsize=15, fontweight='bold')  # Colocando título
    chaves, valores = zip(*map.items())  # Criando tupla de chave:valor para mapeamento 
    ax.set_xticklabels(valores)  # Mapeando valores para eixo x
    plt.show()


# Utilizando a função histograma para analisar a distribuição das idades entre os respondentes
histograma(df, 'age', ('Idades', 'Idades dos Respondentes'))


# Verificando a moda dos valores da variável 'age' (idade)
df['age'].mode()





# Analisando a distribuição de renda dos respondentes
histograma(df, 'income', ("Renda Anual (em milhares de dólares)", "Renda Familiar Anual dos Respondentes"))


print(f"{((len(df.loc[df['income'] < 100, :])/len(df)) * 100)}% dos respondentes possui renda familiar anual inferior a 100 mil dólares")





#dicionario_dados['miles'] = 'Valor anual total conduzido por membros da família em milhares de milhas'
histograma(df, 'miles', ("Milhas Percorridas (em milhares)", "Milhas Percorridas Anualmente pela Família"))





# Utilizando função para análise gráfica (countplot)
countplot(df, 'female', ("Número de Homens e Mulheres", "Frequência de Respondentes por Sexo"), {0: "Homens", 1: "Mulheres"})





# Utilizando função countplot para análise gráfica 
countplot(df, 'educ', ("Nível de Escolaridade do Entrevistado", "Nível de Ensino dos Respondentes"),
          {0: "Ensino Médio", 1: "Alguma Faculdade", 2: "Graduação", 3: "Pós-graduação"})

# Obs: Para que os valores fossem "fitados" da forma correta para cada barra do countplot, o dicionário começou da chave 0 e não 1.





# Utilizando função countplot para análise gráfica
countplot(df, 'numkids', ("Número de Crianças", "Número de Crianças (0-18 anos) que Residem no Domicílio"), 
         {0: "0", 1: "1", 2: "2", 3: "3", 4: "4"})





# Utilizando função countplot para análise gráfica 
countplot(df, 'recycle', ("Nível de Reciclagem", "Reciclagem Autorrelatada em Comparação com a Média"), 
         {0: "Muito Menos", 1: "Um Pouco Menos", 2: "Médio", 3: "Um Pouco Mais", 4: "Muito Mais"})














# Importando classe PCA
from sklearn.decomposition import PCA


# Definindo features demográficas
features_demograficas = ['age', 'income', 'miles', 'numkids', 'female', 'educ', 'recycle', 'mvliking']


# Testando número de componentes que maximizam a variância explicada
for numero_componentes in range (1,10):
    pca = PCA(n_components = numero_componentes, random_state = 42).fit(df.drop(features_demograficas, axis = 1))
    print(f"{numero_componentes} componentes com variância total explicada de {sum(pca.explained_variance_ratio_)}: {pca.explained_variance_ratio_}")





# Definindo o objeto pca com 5 componentes
pca = PCA(n_components = 5, random_state = 42).fit(df.drop(features_demograficas, axis = 1)) 

print(f"Com a utilização de 5 componentes principais, explica-se {sum(pca.explained_variance_ratio_) * 100:.2f}% da variância total")








# Para visualizar a importância de cada variável da base original com cada componente principal criado, utilizamos o atributo
# components_
pca.components_





# Criando DataFrame e suas colunas (a partir da remoção das colunas demograficas do DataFrame original)
componentes_importancia = pd.DataFrame(columns=df.drop(features_demograficas, axis = 1).columns)

# Utilizando um loop for para preencher o DataFrame 'componente_componentes_importancia'
for i in range(len(pca.components_)): # Iterando sobre o array de 5 listas 
    componentes_importancia.loc[i] = pca.components_[i] # Cada linha do DataFrame 'componentes_importancia' será composta
# pelos elementos de cada lista do array de 5 listas 
# O DataFrame, então, terá 5 linhas (cada uma preenchida pelos elementos de cada lista do atributo pca.components_)


# Visualizando o DataFrame com todos os dados devidamente preenchidos
componentes_importancia








# Fazendo list comprehension para capturar as 3 features com maior influência no componente principal 4
maior_influencia = [i for i in componentes_importancia.loc[3].nlargest(3).index]

# Mostrando features com maior influência no componente principal 4
maior_influencia


# Fazendo list comprehension para capturar as 3 features com menor influência no componente principal 4
menor_influencia = [i for i in componentes_importancia.loc[3].nsmallest(3).index]

# Mostrando features com menor influência no componente principal 4
menor_influencia


# Analisando para saber o que cada feature é 
print("Features com maior importância no componente 4:\n")
for i in maior_influencia:
    print(dicionario_dados[i])


# Analisando para saber o que cada feature é 
print("Features com menor importância no componente 4:\n")
for i in menor_influencia:
    print(dicionario_dados[i])








# Criando um loop do tipo for para iterar sobre os componentes e pegar a coluna (feature) mais importante em cada componente
for i in range(len(pca.components_)):
    feature_mais_importante = componentes_importancia.columns[componentes_importancia.loc[i].argmax()]
    feature_menos_importante = componentes_importancia.columns[componentes_importancia.loc[i].argmin()]
    print(f"A feature mais importante do componente {i+1} é: {dicionario_dados[feature_mais_importante]}")
    print(f"A feature menos importante do componente {i+1} é: {dicionario_dados[feature_menos_importante]}")





# Criando loops para visualização das 2 features mais importantes e menos importantes em cada componente 
for i in range(len(pca.components_)):
    features_mais_importantes = [a for a in componentes_importancia.loc[i].nlargest(2).index]
    features_menos_importantes = [a for a in componentes_importancia.loc[i].nsmallest(2).index]
    
    # Criando strings vazias para armazenar impactos positivos e negativos
    impactos_positivos = ""
    impactos_negativos = ""
    
    # Criando loop for para cada elemento selecionado
    for a in features_mais_importantes:
        impactos_positivos += f" {dicionario_dados[a]}. "
    
    for a in features_menos_importantes:
        impactos_negativos += f" {dicionario_dados[a]}. "
    
    # Printando os resultados para cada categoria (impactos positivos e negativos)
    print(f"Impactos positivos no componente {i+1}:", impactos_positivos)
    print(f"Impactos negativos no componente {i+1}:", impactos_negativos)
    print("\n")





# Plotando heatmap
plt.figure(figsize=(10,7))
sns.heatmap(data = componentes_importancia, yticklabels = componentes_importancia.index+1)
plt.show()





# Agora, vamos analisar as features com maior impacto no componente de número 5
dicionario_dados['pricqual'], dicionario_dados['envrminr'], dicionario_dados['twoincom']














# Criando DataFrame a partir da trasnformação do PCA
principal_components = pca.transform(df.drop(features_demograficas, axis = 1))
principal_components





# Criando pandas DataFrame
df_pca = pd.DataFrame(data = principal_components)


# Mostrando o final do DataFrame
df_pca.tail()






